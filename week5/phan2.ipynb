{
 "cells": [
  {
   "cell_type": "markdown",
   "id": "7af7f1d4",
   "metadata": {},
   "source": [
    "Task1: setup . \n",
    "1. các bạn thêm gensim vào file requirements.txt rồi trên terminal gõ  \"pip install -r requirements.txt\" để cài các thư viện cần thiết cho bài thực hành này \n",
    "2. sau đó tải mô hình glove-wiki-gigaword-50"
   ]
  },
  {
   "cell_type": "markdown",
   "id": "279ba74f",
   "metadata": {},
   "source": [
    "Task 1: Tải và sử dụng model có sẵn (Gensim)"
   ]
  },
  {
   "cell_type": "code",
   "execution_count": 1,
   "id": "62f1f45c",
   "metadata": {},
   "outputs": [
    {
     "name": "stdout",
     "output_type": "stream",
     "text": [
      "[==================================================] 100.0% 66.0/66.0MB downloaded\n",
      "Số lượng từ trong mô hình: 400000\n",
      "Số chiều vector: 50\n"
     ]
    }
   ],
   "source": [
    "# tải mô hình golve-pretrain \n",
    "from gensim.downloader import load\n",
    "\n",
    "# Tải mô hình 'glove-wiki-gigaword-50' (~65MB)\n",
    "model = load(\"glove-wiki-gigaword-50\")\n",
    "\n",
    "# Kiểm tra thông tin mô hình\n",
    "print(f\"Số lượng từ trong mô hình: {len(model.key_to_index)}\")\n",
    "print(f\"Số chiều vector: {model.vector_size}\")"
   ]
  },
  {
   "cell_type": "code",
   "execution_count": 2,
   "id": "d20eb510",
   "metadata": {},
   "outputs": [
    {
     "name": "stdout",
     "output_type": "stream",
     "text": [
      "\n",
      "Vector của từ 'computer':\n",
      "[ 0.079084 -0.81504   1.7901    0.91653   0.10797  -0.55628  -0.84427\n",
      " -1.4951    0.13418   0.63627   0.35146   0.25813  -0.55029   0.51056\n",
      "  0.37409   0.12092  -1.6166    0.83653   0.14202  -0.52348   0.73453\n",
      "  0.12207  -0.49079   0.32533   0.45306  -1.585    -0.63848  -1.0053\n",
      "  0.10454  -0.42984   3.181    -0.62187   0.16819  -1.0139    0.064058\n",
      "  0.57844  -0.4556    0.73783   0.37203  -0.57722   0.66441   0.055129\n",
      "  0.037891  1.3275    0.30991   0.50697   1.2357    0.1274   -0.11434\n",
      "  0.20709 ]\n",
      "\n",
      "Độ tương đồng giữa 'king' và 'queen': 0.7839\n",
      "\n",
      "Top 10 từ gần nghĩa với 'computer':\n",
      "computers        0.9165\n",
      "software         0.8815\n",
      "technology       0.8526\n",
      "electronic       0.8126\n",
      "internet         0.8060\n",
      "computing        0.8026\n",
      "devices          0.8016\n",
      "digital          0.7992\n",
      "applications     0.7913\n",
      "pc               0.7883\n"
     ]
    }
   ],
   "source": [
    "# LẤY VECTOR CỦA MỘT TỪ\n",
    "word = \"computer\"\n",
    "vector = model[word]\n",
    "print(f\"\\nVector của từ '{word}':\\n{vector}\")\n",
    "\n",
    "# TÍNH ĐỘ TƯƠNG ĐỒNG GIỮA HAI TỪ\n",
    "word1, word2 = \"king\", \"queen\"\n",
    "similarity = model.similarity(word1, word2)\n",
    "print(f\"\\nĐộ tương đồng giữa '{word1}' và '{word2}': {similarity:.4f}\")\n",
    "\n",
    "# TÌM CÁC TỪ ĐỒNG NGHĨA (MOST SIMILAR)\n",
    "top_similar = model.most_similar(\"computer\", topn=10)\n",
    "print(\"\\nTop 10 từ gần nghĩa với 'computer':\")\n",
    "for w, score in top_similar:\n",
    "    print(f\"{w:15s}  {score:.4f}\")\n"
   ]
  },
  {
   "cell_type": "markdown",
   "id": "532e8c9e",
   "metadata": {},
   "source": [
    "Task 2: Word Embedding Exploration\n",
    "\n",
    "Task 2: Nhúng câu/văn bản\n"
   ]
  },
  {
   "cell_type": "code",
   "execution_count": 7,
   "id": "b52aeacc",
   "metadata": {},
   "outputs": [
    {
     "name": "stdout",
     "output_type": "stream",
     "text": [
      "🔹 Loading model 'glove-wiki-gigaword-50' ... (có thể mất vài phút lần đầu)\n",
      "Model loaded successfully!\n",
      "\n",
      "🔹 Vector của từ 'hero':\n",
      "[-0.26141   0.58084   0.082065 -0.019771  1.0041   -0.10656  -0.25769\n",
      "  0.14856  -0.43527   0.64972   0.014508  0.63765  -0.62944   0.38705\n",
      "  0.61637  -0.79619   0.41231   0.63455  -0.93001   0.47994  -1.2519\n",
      "  0.45499  -0.78659  -0.04093   0.70027  -1.7713   -1.0695   -0.67043\n",
      "  0.14878   0.21102   1.422    -0.086565 -0.47039  -0.034748 -0.1786\n",
      "  0.70021  -0.084792 -0.27317  -0.9316   -0.9261    0.16159   0.62584\n",
      " -0.61484  -0.58984   0.1871    0.47937  -0.3746   -0.82852   0.042699\n",
      " -0.4916  ]\n",
      "Chiều vector: 50\n",
      "\n",
      "🔹 Độ tương đồng giữa 'love' và 'hate': 0.6459\n",
      "\n",
      "🔹 Top từ gần nghĩa nhất với 'clever':\n",
      "inventive        0.8303\n",
      "clumsy           0.8099\n",
      "deft             0.8099\n",
      "imaginative      0.8089\n",
      "ingenious        0.7985\n",
      "straightforward  0.7814\n",
      "witty            0.7610\n",
      "amusing          0.7576\n",
      "wordplay         0.7454\n",
      "humorous         0.7428\n",
      "\n",
      "🔹 Vector biểu diễn văn bản:\n",
      "[ 0.6025801   0.40432423 -0.04677425 -0.10898437  0.39158002  0.21659526\n",
      " -0.2479805  -0.11188436 -0.27140874 -0.37437224  0.07129464  0.06522624\n",
      "  0.11182751 -0.200362    0.57949877  0.5316737   0.43986377 -0.0943775\n",
      "  0.12303911 -0.61485505 -0.19833     0.04839625  0.26561126 -0.00577599\n",
      "  0.02071    -1.1345475  -0.38260996  0.04478101  0.330704   -0.17563123\n",
      "  3.5024624   0.20607515 -0.32821375 -0.72716504  0.10917355  0.13572274\n",
      "  0.49495625 -0.11359669 -0.25941277  0.10480362 -0.3513963  -0.08309674\n",
      "  0.3277005   0.54731375 -0.09747362 -0.0729335  -0.5638513   0.24106526\n",
      " -0.21599999  0.02489175]\n",
      "Chiều vector: 50\n",
      "\n",
      "🔹 Độ tương đồng giữa hai câu:\n",
      "'The king rules the kingdom'\n",
      "'The queen governs the empire'\n",
      "➡ Cosine Similarity: 0.9570\n"
     ]
    }
   ],
   "source": [
    "import numpy as np\n",
    "from word_embedder import WordEmbedder\n",
    "\n",
    "# --- KHỞI TẠO MÔ HÌNH ---\n",
    "embedder = WordEmbedder(\"glove-wiki-gigaword-50\")\n",
    "\n",
    "# --- LẤY VECTOR CỦA TỪ ---\n",
    "word = \"hero\"\n",
    "vec = embedder.get_vector(word)\n",
    "print(f\"\\n🔹 Vector của từ '{word}':\\n{vec}\\nChiều vector: {len(vec)}\")\n",
    "\n",
    "# --- TÍNH ĐỘ TƯƠNG ĐỒNG GIỮA 2 TỪ ---\n",
    "w1, w2 = \"love\", \"hate\"\n",
    "sim = embedder.get_similarity(w1, w2)\n",
    "print(f\"\\n🔹 Độ tương đồng giữa '{w1}' và '{w2}': {sim:.4f}\")\n",
    "\n",
    "# --- TÌM TOP TỪ GẦN NGHĨA ---\n",
    "target = \"clever\"\n",
    "print(f\"\\n🔹 Top từ gần nghĩa nhất với '{target}':\")\n",
    "for w, s in embedder.get_most_similar(target, top_n=10):\n",
    "    print(f\"{w:15s}  {s:.4f}\")\n",
    "\n",
    "# --- NHÚNG CÂU / VĂN BẢN ---\n",
    "sentence = \"There are no permanent enemies, nor are there permanent friends.\"\n",
    "doc_vec = embedder.get_document_vector(sentence)\n",
    "print(f\"\\n🔹 Vector biểu diễn văn bản:\\n{doc_vec}\\nChiều vector: {len(doc_vec)}\")\n",
    "\n",
    "# --- SO SÁNH ĐỘ TƯƠNG ĐỒNG GIỮA HAI CÂU ---\n",
    "sent1 = \"The king rules the kingdom\"\n",
    "sent2 = \"The queen governs the empire\"\n",
    "\n",
    "vec1 = embedder.get_document_vector(sent1)\n",
    "vec2 = embedder.get_document_vector(sent2)\n",
    "\n",
    "from numpy.linalg import norm\n",
    "cosine_sim = np.dot(vec1, vec2) / (norm(vec1) * norm(vec2))\n",
    "print(f\"\\n🔹 Độ tương đồng giữa hai câu:\\n'{sent1}'\\n'{sent2}'\\n➡ Cosine Similarity: {cosine_sim:.4f}\")\n"
   ]
  },
  {
   "cell_type": "markdown",
   "id": "a6c7fc93",
   "metadata": {},
   "source": [
    "Task 3: Document Embedding\n",
    "Task 3: Huấn luyện model trên tập dữ liệu nhỏ (Gensim)"
   ]
  },
  {
   "cell_type": "code",
   "execution_count": 1,
   "id": "1653dc7d",
   "metadata": {},
   "outputs": [
    {
     "name": "stdout",
     "output_type": "stream",
     "text": [
      "Số câu đọc được: 11995\n",
      "Ví dụ 1 câu: ['al', 'zaman', 'american', 'forces', 'killed', 'shaikh', 'abdullah', 'al', 'ani', 'the']\n",
      "\n",
      " Huấn luyện Word2Vec thành công!\n",
      " Mô hình đã được lưu tại: word2vec_custom.model\n",
      " Mô hình đã được tải lại thành công!\n"
     ]
    }
   ],
   "source": [
    "import re\n",
    "from gensim.utils import simple_preprocess\n",
    "\n",
    "file_path = r\"D:\\project\\nlp\\week2\\lab1_tokenization\\src\\data\\en_ewt-ud-train.txt\"\n",
    "\n",
    "with open(file_path, \"r\", encoding=\"utf-8\") as f:\n",
    "    text = f.read()\n",
    "\n",
    "# Chia nhỏ văn bản thành các câu và token hóa\n",
    "sentences = [simple_preprocess(sent) for sent in re.split(r'[.!?]', text) if sent.strip()]\n",
    "\n",
    "print(f\"Số câu đọc được: {len(sentences)}\")\n",
    "print(f\"Ví dụ 1 câu: {sentences[0][:10]}\")\n",
    "\n",
    "# --- 2 huấn luyện mô hình word2vec ---\n",
    "from gensim.models import Word2Vec\n",
    "\n",
    "model = Word2Vec(\n",
    "    sentences=sentences,\n",
    "    vector_size=100,   # số chiều của vector\n",
    "    window=5,          # phạm vi ngữ cảnh\n",
    "    min_count=2,       # bỏ qua từ xuất hiện < 2 lần\n",
    "    workers=4,\n",
    "    sg=1               # 1 = Skip-gram, 0 = CBOW\n",
    ")\n",
    "\n",
    "print(\"\\n Huấn luyện Word2Vec thành công!\")\n",
    "\n",
    "# --- 3. LƯU MÔ HÌNH ---\n",
    "model_save_path = \"word2vec_custom.model\"\n",
    "model.save(model_save_path)\n",
    "print(f\" Mô hình đã được lưu tại: {model_save_path}\")\n",
    "\n",
    "# --- 4. TẢI LẠI MÔ HÌNH ---\n",
    "from gensim.models import Word2Vec\n",
    "loaded_model = Word2Vec.load(model_save_path)\n",
    "print(\" Mô hình đã được tải lại thành công!\")\n",
    "\n"
   ]
  },
  {
   "cell_type": "markdown",
   "id": "be6e3182",
   "metadata": {},
   "source": [
    "Evaluation của task3 "
   ]
  },
  {
   "cell_type": "code",
   "execution_count": 4,
   "id": "66b6d808",
   "metadata": {},
   "outputs": [
    {
     "name": "stdout",
     "output_type": "stream",
     "text": [
      "🔹 Loading model 'glove-wiki-gigaword-50'\n",
      "Model loaded successfully!\n",
      "Vector của 'king':\n",
      "[ 0.50451   0.68607  -0.59517  -0.022801  0.60046  -0.13498  -0.08813\n",
      "  0.47377  -0.61798  -0.31012 ]\n",
      "\n",
      "Similarity (king, queen): 0.7839\n",
      "Similarity (king, man): 0.5309\n",
      "\n",
      "10 từ giống 'computer' nhất:\n",
      "computers       0.9165\n",
      "software        0.8815\n",
      "technology      0.8526\n",
      "electronic      0.8126\n",
      "internet        0.8060\n",
      "computing       0.8026\n",
      "devices         0.8016\n",
      "digital         0.7992\n",
      "applications    0.7913\n",
      "pc              0.7883\n",
      "\n",
      "Vector biểu diễn câu:\n",
      "[ 0.02444201  0.378018   -0.638166    0.0128046   0.0524286   0.11954119\n",
      " -0.316518   -0.08776999  0.0776199  -0.541834  ]\n"
     ]
    }
   ],
   "source": [
    "!python lab4_test.py\n"
   ]
  },
  {
   "cell_type": "markdown",
   "id": "671066c4",
   "metadata": {},
   "source": [
    "Task4 \n",
    "Bonus Task: Training a Word2Vec Model from Scratch và Advanced Task: Scaling Word2Vec with Apache Spark\n",
    "phần huấn luyện với gesim trong bonus task đã được làm trên task3 \n",
    "Huấn luyện model trên tập dữ liệu lớn SPark\n"
   ]
  },
  {
   "cell_type": "code",
   "execution_count": 5,
   "id": "01e1a705",
   "metadata": {},
   "outputs": [
    {
     "name": "stdout",
     "output_type": "stream",
     "text": [
      " SparkSession initialized!\n"
     ]
    }
   ],
   "source": [
    "# khởi tạo spark seassion \n",
    "from pyspark.sql import SparkSession\n",
    "\n",
    "spark = SparkSession.builder \\\n",
    "    .appName(\"Word2VecTraining_LargeDataset\") \\\n",
    "    .config(\"spark.driver.memory\", \"4g\") \\\n",
    "    .config(\"spark.executor.memory\", \"4g\") \\\n",
    "    .getOrCreate()\n",
    "\n",
    "print(\" SparkSession initialized!\")\n"
   ]
  },
  {
   "cell_type": "code",
   "execution_count": 6,
   "id": "71993b59",
   "metadata": {},
   "outputs": [
    {
     "name": "stdout",
     "output_type": "stream",
     "text": [
      "root\n",
      " |-- text: string (nullable = true)\n",
      " |-- timestamp: string (nullable = true)\n",
      " |-- url: string (nullable = true)\n",
      "\n",
      "+----------------------------------------------------------------------------------------------------+--------------------+--------------------------------------------------------------------------------------+\n",
      "|                                                                                                text|           timestamp|                                                                                   url|\n",
      "+----------------------------------------------------------------------------------------------------+--------------------+--------------------------------------------------------------------------------------+\n",
      "|Beginners BBQ Class Taking Place in Missoula!\\nDo you want to get better at making delicious BBQ?...|2019-04-25T12:57:54Z|                        https://klyq.com/beginners-bbq-class-taking-place-in-missoula/|\n",
      "|Discussion in 'Mac OS X Lion (10.7)' started by axboi87, Jan 20, 2012.\\nI've got a 500gb internal...|2019-04-21T10:07:13Z|https://forums.macrumors.com/threads/restore-from-larger-disk-to-smaller-disk.1311329/|\n",
      "|Foil plaid lycra and spandex shortall with metallic slinky insets. Attached metallic elastic belt...|2019-04-25T10:40:23Z|                  https://awishcometrue.com/Catalogs/Clearance/Tweens/V1960-Find-A-Way|\n",
      "|How many backlinks per day for new site?\\nDiscussion in 'Black Hat SEO' started by Omoplata, Dec ...|2019-04-21T12:46:19Z|     https://www.blackhatworld.com/seo/how-many-backlinks-per-day-for-new-site.258615/|\n",
      "|The Denver Board of Education opened the 2017-18 school year with an update on projects that incl...|2019-04-20T14:33:21Z|                                                 http://bond.dpsk12.org/category/news/|\n",
      "+----------------------------------------------------------------------------------------------------+--------------------+--------------------------------------------------------------------------------------+\n",
      "only showing top 5 rows\n"
     ]
    }
   ],
   "source": [
    "# Đọc file Json lớn \n",
    "file_path = r\"D:\\\\project\\\\nlp\\\\week3\\\\data\\\\c4-train.00000-of-01024-30K.json\"\n",
    "\n",
    "# Đọc file JSON bằng Spark\n",
    "df = spark.read.json(file_path)\n",
    "\n",
    "# Xem schema và 5 dòng đầu\n",
    "df.printSchema()\n",
    "df.show(5, truncate=100)\n"
   ]
  },
  {
   "cell_type": "markdown",
   "id": "0c0f8fb1",
   "metadata": {},
   "source": [
    "Chuyển nội dung thành danh sách token (chuẩn bị cho Word2Vec)"
   ]
  },
  {
   "cell_type": "code",
   "execution_count": null,
   "id": "649cb54b",
   "metadata": {},
   "outputs": [
    {
     "name": "stdout",
     "output_type": "stream",
     "text": [
      "+----------------------------------------------------------------------------------------------------+\n",
      "|                                                                                              tokens|\n",
      "+----------------------------------------------------------------------------------------------------+\n",
      "|[beginners, bbq, class, taking, place, in, missoula, do, you, want, to, get, better, at, making, ...|\n",
      "|[discussion, in, mac, os, x, lion, started, by, axboi, jan, ive, got, a, gb, internal, drive, and...|\n",
      "|[foil, plaid, lycra, and, spandex, shortall, with, metallic, slinky, insets, attached, metallic, ...|\n",
      "|[how, many, backlinks, per, day, for, new, site, discussion, in, black, hat, seo, started, by, om...|\n",
      "|[the, denver, board, of, education, opened, the, school, year, with, an, update, on, projects, th...|\n",
      "+----------------------------------------------------------------------------------------------------+\n",
      "only showing top 5 rows\n"
     ]
    }
   ],
   "source": [
    "from pyspark.sql.functions import col, lower, regexp_replace, split\n",
    "\n",
    "text_col = \"text\"\n",
    "# làm sạch cột và tokenize\n",
    "df_clean = df.withColumn(\n",
    "    \"clean_text\",\n",
    "    lower(regexp_replace(col(text_col), \"[^a-zA-Z\\s]\", \"\"))\n",
    ")\n",
    "\n",
    "df_tokens = df_clean.withColumn(\"tokens\", split(col(\"clean_text\"), \"\\s+\"))\n",
    "\n",
    "df_tokens.select(\"tokens\").show(5, truncate=100)\n"
   ]
  },
  {
   "cell_type": "code",
   "execution_count": null,
   "id": "9c100d89",
   "metadata": {},
   "outputs": [
    {
     "name": "stdout",
     "output_type": "stream",
     "text": [
      "Word2Vec model trained successfully!\n"
     ]
    }
   ],
   "source": [
    "from pyspark.ml.feature import Word2Vec\n",
    "# khởi tạo mô hình Word2Vec\n",
    "word2Vec = Word2Vec(\n",
    "    vectorSize=100,       # số chiều vector\n",
    "    minCount=5,           # bỏ qua từ xuất hiện ít hơn 5 lần\n",
    "    inputCol=\"tokens\",\n",
    "    outputCol=\"word_vectors\"\n",
    ")\n",
    "\n",
    "# Huấn luyện mô hình\n",
    "w2v_model = word2Vec.fit(df_tokens)\n",
    "print(\"Word2Vec model trained successfully!\")\n"
   ]
  },
  {
   "cell_type": "markdown",
   "id": "34386d43",
   "metadata": {},
   "source": [
    "lưu mô hình "
   ]
  },
  {
   "cell_type": "code",
   "execution_count": null,
   "id": "f30c3363",
   "metadata": {},
   "outputs": [],
   "source": [
    "save_path = \"./word2vec_spark_model\"\n",
    "w2v_model.save(save_path)\n",
    "print(f\" Model saved at: {save_path}\")\n"
   ]
  },
  {
   "cell_type": "code",
   "execution_count": 18,
   "id": "258078fc",
   "metadata": {},
   "outputs": [
    {
     "name": "stdout",
     "output_type": "stream",
     "text": [
      "Vector cho từ 'computer': [ 2.26276845e-01 -3.98697071e-02  2.11614981e-01  2.10631602e-02\n",
      "  3.02959085e-01  2.66727438e-04 -2.47048751e-01  2.21918598e-01\n",
      "  2.38459244e-01  1.35775715e-01]\n",
      "+-----------+------------------+\n",
      "|       word|        similarity|\n",
      "+-----------+------------------+\n",
      "|    desktop|0.6788263320922852|\n",
      "|     laptop|0.6427996158599854|\n",
      "|    uwowned|0.6400086879730225|\n",
      "|  computers|0.6363863945007324|\n",
      "|    browser| 0.598209023475647|\n",
      "|     device|0.5973107814788818|\n",
      "|       sync|0.5834141373634338|\n",
      "|programming|0.5808985233306885|\n",
      "|      linux|0.5762199759483337|\n",
      "|         wf|0.5750893354415894|\n",
      "+-----------+------------------+\n",
      "\n"
     ]
    }
   ],
   "source": [
    "# Lấy vector cho một từ cụ thể (ví dụ \"computer\")\n",
    "vector = w2v_model.getVectors().filter(col(\"word\") == \"computer\").collect()\n",
    "if vector:\n",
    "    print(\"Vector cho từ 'computer':\", vector[0].asDict()[\"vector\"][:10])\n",
    "\n",
    "# Hiển thị 10 từ gần nghĩa với \"computer\"\n",
    "w2v_model.findSynonyms(\"computer\", 10).show()\n"
   ]
  },
  {
   "cell_type": "markdown",
   "id": "0a32124e",
   "metadata": {},
   "source": [
    "Task 5: Trực quan hóa Embedding "
   ]
  },
  {
   "cell_type": "code",
   "execution_count": null,
   "id": "07d6458f",
   "metadata": {},
   "outputs": [
    {
     "name": "stdout",
     "output_type": "stream",
     "text": [
      "🔹 Đang giảm chiều bằng PCA...\n"
     ]
    },
    {
     "data": {
      "image/png": "[encoded data removed]",
      "text/plain": [
       "<Figure size 1200x900 with 1 Axes>"
      ]
     },
     "metadata": {},
     "output_type": "display_data"
    }
   ],
   "source": [
    "from gensim.models import Word2Vec  # Import lớp Word2Vec từ Gensim để load model\n",
    "model_path = r\"D:\\project\\nlp\\week5\\word2vec_custom.model\"  # Đường dẫn tới file model Word2Vec đã train\n",
    "model = Word2Vec.load(model_path)  # Load mô hình Word2Vec từ file\n",
    "\n",
    "wv = model.wv  # Lấy phần Word Vectors (embedding) từ model\n",
    "\n",
    "words = list(wv.key_to_index.keys())[:200]  # Lấy 200 từ đầu trong vocabulary\n",
    "X = wv[words]  # Lấy vector tương ứng của các từ này\n",
    "\n",
    "from sklearn.decomposition import PCA  # Import PCA để giảm chiều embedding\n",
    "import matplotlib.pyplot as plt  # Import matplotlib để vẽ biểu đồ\n",
    "\n",
    "print(\"🔹 Đang giảm chiều bằng PCA...\")  # In thông báo\n",
    "pca = PCA(n_components=2)  # Khởi tạo PCA để giảm embedding từ nhiều chiều xuống 2D\n",
    "X_reduced = pca.fit_transform(X)  # Áp dụng PCA lên các vector từ, trả về ma trận 2 chiều\n",
    "\n",
    "plt.figure(figsize=(12, 9))  # Tạo figure với kích thước 12x9 inch\n",
    "plt.scatter(X_reduced[:, 0], X_reduced[:, 1], s=30, alpha=0.7)  # Vẽ scatter plot các điểm từ embedding 2D\n",
    "\n",
    "# Vẽ chú thích từ (annotation) lên biểu đồ cho 100 từ đầu tiên\n",
    "for i, word in enumerate(words[:100]):\n",
    "    plt.annotate(word, xy=(X_reduced[i, 0], X_reduced[i, 1]), fontsize=9, alpha=0.75)\n",
    "\n",
    "plt.title(\"Word Embedding Visualization using PCA (2D Projection)\")  # Tiêu đề biểu đồ\n",
    "plt.xlabel(\"Principal Component 1\")  # Nhãn trục x\n",
    "plt.ylabel(\"Principal Component 2\")  # Nhãn trục y\n",
    "plt.grid(True)  # Hiển thị lưới\n",
    "plt.show()  # Hiển thị biểu đồ\n"
   ]
  },
  {
   "cell_type": "markdown",
   "id": "649fd9cf",
   "metadata": {},
   "source": [
    "2. Báo cáo và phân tích \n",
    "- Giải thích các bước thực hiện \n",
    "+ Task 1: Tải và sử dụng model có sẵn (Gensim)\n",
    "    Tải mô hình GloVe pre-trained (glove-wiki-gigaword-50) từ kho gensim.\n",
    "    In thông tin cơ bản của mô hình (số từ, số chiều vector).\n",
    "    Lấy vector của từ \"computer\" và in ra.\n",
    "    Tính độ tương đồng cosine giữa hai từ (\"king\" và \"queen\") và liệt kê top-10 từ tương tự với \"computer\".\n",
    "\n",
    "+ Task 2 Nhúng câu/văn bản\n",
    "    Khởi tạo mô hình \n",
    "    Lấy vector của một từ (embedding của \"hero\").\n",
    "    Tính độ tương đồng giữa hai từ (\"love\" và \"hate\").\n",
    "    Tìm top các từ gần nghĩa với \"clever\".\n",
    "    Tạo vector biểu diễn cho một câu/văn bản bằng cách trung bình vector các từ.\n",
    "    So sánh độ tương đồng giữa hai câu thông qua cosine similarity giữa hai vector câu.\n",
    "    -> trình diễn đầy đủ các chức năng chính của Word Embedding\n",
    "\n",
    "+ Task 3 Huấn luyện model trên tập dữ liệu nhỏ (Gensim)\n",
    "    Huấn luyện mô hình Word2Vec bằng gensim:\n",
    "        Đọc và tiền xử lý dữ liệu từ file .txt.( sử dụng biểu thức chính quy)\n",
    "        Huấn luyện mô hình Skip-gram với 100 chiều vector.\n",
    "        Lưu và tải lại mô hình đã huấn luyện.\n",
    "    Đánh giá mô hình Word Embedding (với GloVe pre-trained):\n",
    "        Lấy vector của từ \"king\".\n",
    "        Tính độ tương đồng giữa các cặp từ (king–queen, king–man).\n",
    "        Tìm 10 từ gần nghĩa nhất với \"computer\".\n",
    "        Nhúng câu \"The queen rules the country.\" thành vector biểu diễn.\n",
    "     -> Code thể hiện quy trình huấn luyện và sử dụng mô hình embedding\n",
    "\n",
    "+ Task 4 Huấn luyện model trên tập dữ liệu lớn (Spark)     \n",
    "    Khởi tạo SparkSession – cấu hình bộ nhớ và khởi chạy môi trường Spark.\n",
    "    Đọc dữ liệu lớn (JSON) – sử dụng spark.read.json() để nạp dữ liệu vào DataFrame.\n",
    "    Tiền xử lý văn bản – chuyển chữ thường, loại bỏ ký tự đặc biệt, và tách từ thành danh sách tokens.\n",
    "    Huấn luyện Word2Vec – tạo mô hình Word2Vec với 100 chiều, huấn luyện trên cột tokens.\n",
    "    Lưu mô hình – lưu lại kết quả bằng w2v_model.save(path).\n",
    "    Đánh giá nhanh – in vector của từ \"computer\" và hiển thị 10 từ gần nghĩa nhất.\n",
    "    -> triển khai Word2Vec quy mô lớn bằng Spark MLlib, thay vì Gensim.\n",
    "\n",
    "+ Task 5: Trực quan hóa Embedding \n",
    "    Tải mô hình Word2Vec đã huấn luyện (word2vec_custom.model) bằng Gensim.\n",
    "    Lấy danh sách từ và vector tương ứng (200 từ đầu tiên).\n",
    "    Giảm chiều vector từ 100D → 2D bằng PCA (Principal Component Analysis).\n",
    "    Vẽ biểu đồ scatter plot hiển thị vị trí các từ trên mặt phẳng 2D.\n",
    "    Gắn nhãn các từ (annotate) để quan sát các cụm nghĩa gần nhau.\n",
    "    -> sử dụng PCA để trực quan hóa không gian embedding, giúp nhìn thấy quan hệ ngữ nghĩa giữa các từ.\n",
    "\n",
    "- Các bước chạy code : các bạn chỉ cần tải các thư viện requirements.txt và ấn chạy từng shell 1 trong notebook này là được \n",
    "\n",
    "- Phân tích kết quả\n",
    "+ Nhận xét về độ tương đồng và các từ đồng nghĩa tìm được từ model pre-trained.\n",
    "\n",
    "    1 Độ tương đồng giữa “king” và “queen” = 0.7839:\n",
    "    Đây là một giá trị cosine similarity cao, chứng tỏ hai từ này có mối quan hệ ngữ nghĩa mạnh — chúng cùng nằm trong miền từ vựng “hoàng gia” (royalty).\n",
    "    → Mô hình pre-trained đã nắm bắt được quan hệ giới tính và vai trò tương tự nhau giữa các từ như “king” ↔ “queen”.\n",
    "\n",
    "    2 Top 10 từ gần nghĩa với “computer”:\n",
    "    Các từ như “computers”, “software”, “technology”, “electronic”, “internet”, “computing”, “devices”, “digital”, “applications”, “pc” đều có ngữ nghĩa hoặc ngữ cảnh sử dụng tương đồng.\n",
    "    → Điều này cho thấy mô hình hiểu được mối liên hệ ngữ nghĩa và chức năng — ví dụ, “software” và “computer” thường xuất hiện cùng nhau, “digital” và “devices” cùng thuộc lĩnh vực công nghệ.\n",
    "\n",
    "    Kết luận \n",
    "    Mô hình GloVe pre-trained thể hiện khả năng nắm bắt ngữ nghĩa và mối quan hệ ngữ cảnh rất tốt. Các giá trị tương đồng và danh sách từ gần nghĩa đều hợp lý, phản ánh chính xác hiểu biết ngôn ngữ tự nhiên trong lĩnh vực công nghệ và ngữ cảnh phổ biến.\n",
    "\n",
    "+ Phân tích biểu đồ trực quan hóa: Các từ có gần nhau như kỳ vọng không? Có cụm từ nào thú vị không? Giải thích tại sao.\n",
    "    1️ Tổng quan:\n",
    "    Biểu đồ thể hiện phân bố của các vector từ sau khi giảm xuống 2D bằng PCA, giúp ta quan sát mối quan hệ ngữ nghĩa giữa các từ mà mô hình Word2Vec học được.\n",
    "\n",
    "    2️ Nhóm từ gần nhau (kỳ vọng):\n",
    "    Các từ có ngữ nghĩa hoặc ngữ cảnh sử dụng tương tự nằm gần nhau — điều này là đúng như kỳ vọng:\n",
    "    Nhóm đại từ và động từ thường dùng trong hội thoại (you, your, know, want, do, can, see) nằm gần nhau → biểu hiện cụm ngữ cảnh giao tiếp.\n",
    "    Nhóm đại từ ngôi thứ ba và động từ liên quan (he, she, him, her, they, them) cũng nằm gần nhau → phản ánh tính tương đồng ngữ pháp và ngữ cảnh.\n",
    "    Các từ chức năng như of, in, by, from, on tụ lại một cụm riêng → cho thấy mô hình hiểu rằng đây là nhóm từ ngữ pháp không mang nhiều ngữ nghĩa nội dung.\n",
    "\n",
    "    3️ Cụm từ thú vị:\n",
    "    Từ “please” nằm xa hẳn các cụm khác — điều này có thể vì nó mang ngữ nghĩa cảm xúc và lịch sự, ít xuất hiện cùng nhóm từ ngữ pháp hoặc đại từ.\n",
    "    “bush” nằm tách biệt — có thể vì trong tập dữ liệu, “bush” thường được dùng như tên riêng (George Bush), nên có ngữ cảnh khác biệt rõ rệt so với các từ phổ biến.\n",
    "\n",
    "    4️ Giải thích:\n",
    "    PCA chỉ giữ lại 2 thành phần chính trong không gian hàng trăm chiều, nên một số quan hệ có thể bị méo nhẹ.\n",
    "    Tuy nhiên, việc các cụm từ có cùng chức năng hoặc ngữ cảnh nằm gần nhau chứng tỏ mô hình học được mối quan hệ ngữ nghĩa tốt, phù hợp với kỳ vọng khi huấn luyện Word2Vec.\n",
    "    Kết luận ngắn gọn:\n",
    "    Biểu đồ thể hiện rõ rằng các từ đồng ngữ cảnh nằm gần nhau (như you–your–do–want), trong khi các từ đặc thù (please, bush) tách biệt — chứng minh mô hình hiểu tốt cấu trúc và ngữ nghĩa cơ bản của ngôn ngữ.\n",
    "\n",
    "- So sánh giữa model pre-train và mode fine tune \n",
    "    model fine-tune dễ dùng hơn vì không phải huấn luyện \n",
    "\n",
    "- Nêu khó khăn và giải pháp: Ghi lại những vấn đề gặp phải và cách bạn đã giải quyết.\n",
    "    Khi train với Gensim trên dữ liệu vừa, lúc đầu chưa biết chọn các tham số như size, window, min_count sao cho hợp lý, nên embedding chưa thực sự phản ánh nghĩa của từ. Sau đó nhờ ai giúp đỡ chọn tham số sao cho phù hợp \n",
    "    Khi train với PySpark trên dữ liệu lớn, quá trình mất nhiều thời gian và dễ bị lỗi memory. \n",
    "    Khi trực quan embedding bằng PCA, một số từ mất thông tin và khó nhìn ra cluster. Em chọn trực quan các từ quan trọng, đồng thời đánh dấu nhóm từ cùng nghĩa để thấy rõ pattern.\n",
    "\n",
    "- Trích dẫn tài liệu: \n",
    "    các tài liệu có sẵn trong lab3 \n",
    "    chat gpt \n",
    "    https://arxiv.org/abs/1301.3781"
   ]
  }
 ],
 "metadata": {
  "kernelspec": {
   "display_name": "Python 3",
   "language": "python",
   "name": "python3"
  },
  "language_info": {
   "codemirror_mode": {
    "name": "ipython",
    "version": 3
   },
   "file_extension": ".py",
   "mimetype": "text/x-python",
   "name": "python",
   "nbconvert_exporter": "python",
   "pygments_lexer": "ipython3",
   "version": "3.10.11"
  }
 },
 "nbformat": 4,
 "nbformat_minor": 5
}
