{
 "cells": [
  {
   "cell_type": "markdown",
   "id": "c66e7112",
   "metadata": {},
   "source": [
    "\n",
    "Exo1: \n",
    "\tINPUT=Nepal’s Home Minister Ramesh Lekhak resigned Monday following the violence, Communications Minister Prithvi Subba confirmed to reporters late Monday.\n",
    "\tOUTPUT=['Nepal', '’', 's', 'Home', 'Minister', 'Ramesh', 'Lekhak', 'resigned', 'Monday', 'following', 'the', 'violence', ',', 'Communications', 'Minister', 'Prithvi', 'Subba', 'confirmed', 'to', 'reporters', 'late', 'Monday', '.']"
   ]
  },
  {
   "cell_type": "code",
   "execution_count": null,
   "id": "73c6f369",
   "metadata": {},
   "outputs": [],
   "source": [
    "def custom_tokenize(text : str):\n",
    "    tokens = [] # tạo danh sách rỗng chứa kết quả tách \n",
    "    word = \"\" # Bộ đệm (buffer) tạm để gom các ký tự chữ/số liên tiếp thành một “từ” hoàn chỉnh trước khi đẩy vào tokens\n",
    "    for ch in text:\n",
    "        if ch.isalnum(): # kiểm tra xem có phải là chữ hay số không \n",
    "            word+=ch # Nếu là chữ/số, ta nối ký tự vào cuối word để tiếp tục xây dựng một từ\n",
    "        else : # nếu kí tự không phải chữ số \n",
    "            if word : # nếu bộ đệm word không rỗng, nghĩa là ta vừa kết thúc một từ khi gặp kí tự không phải chữ, số \n",
    "                tokens.append(word) # đẩy từ hoàn chỉnh vừa xây vào danh sách kết quả (tokens)\n",
    "                word = \"\" # xóa bộ đệm để lặp lại quá trình \n",
    "            if not ch.isspace():# Nếu ký tự hiện tại không phải khoảng trắng (space, tab, xuống dòng…), ta muốn giữ lại nó như một token riêng\n",
    "                tokens.append(ch)# gặp dấu câu ta thêm trực tiếp vào như một kí tự riêng \n",
    "    if word : #Sau vòng lặp, nếu chuỗi kết thúc bằng một từ (không có dấu câu sau cùng), word vẫn còn nội dung.\n",
    "        tokens.append(word) #Đẩy nốt từ đó vào tokens.\n",
    "    return tokens \n",
    "\n",
    "\n",
    "\n"
   ]
  },
  {
   "cell_type": "code",
   "execution_count": 2,
   "id": "53afdbb3",
   "metadata": {},
   "outputs": [
    {
     "name": "stdout",
     "output_type": "stream",
     "text": [
      "['Nepal', '’', 's', 'Home', 'Minister', 'Ramesh', 'Lekhak', 'resigned', 'Monday', 'following', 'the', 'violence', ',', 'Communications', 'Minister', 'Prithvi', 'Subba', 'confirmed', 'to', 'reporters', 'late', 'Monday', '.']\n"
     ]
    }
   ],
   "source": [
    "# Test\n",
    "text = \"Nepal’s Home Minister Ramesh Lekhak resigned Monday following the violence, Communications Minister Prithvi Subba confirmed to reporters late Monday.\"\n",
    "print(custom_tokenize(text))"
   ]
  },
  {
   "cell_type": "markdown",
   "id": "75693692",
   "metadata": {},
   "source": [
    "Exo2: \n",
    "\tINPUT=Nepal’s Home Minister Ramesh Lekhak resigned Monday following the violence, Communications Minister Prithvi Subba confirmed to reporters late Monday.\n",
    "\tOUTPUT=[Nepal, Home Minister Ramesh Lekkak, Monday, Communications Minister Prithvi Subba, Monday]"
   ]
  },
  {
   "cell_type": "code",
   "execution_count": null,
   "id": "d9f6c784",
   "metadata": {},
   "outputs": [
    {
     "name": "stdout",
     "output_type": "stream",
     "text": [
      "['Nepal', 'Home Minister Ramesh Lekhak', 'Monday', 'Communications Minister Prithvi Subba', 'Monday']\n"
     ]
    }
   ],
   "source": [
    "def extract_capitalized(text: str):\n",
    "    tokens = [] # lưu trữ output \n",
    "    word = \"\" # bộ đệm tạm để gom kí tự chữ \n",
    "    results = [] # output sau cùng \n",
    "\n",
    "    for ch in text: # vòng lặp \n",
    "        if ch.isalnum(): # điều kiện là chữ hoặc số \n",
    "            word += ch\n",
    "        else:\n",
    "            if word:\n",
    "                tokens.append(word)\n",
    "                word = \"\"\n",
    "            if not ch.isspace():\n",
    "                tokens.append(ch)\n",
    "    if word:\n",
    "        tokens.append(word)\n",
    "\n",
    "    # Lọc các token có chữ cái đầu viết hoa hoặc toàn bộ viết hoa\n",
    "    phrase = []#Khởi tạo một danh sách rỗng phrase để gom tạm các token liên tiếp bắt đầu bằng chữ hoa.\n",
    "    for t in tokens:\n",
    "        if t[0].isupper():   # nếu từ bắt đầu bằng chữ hoa thêm nó vào phrase \n",
    "            phrase.append(t)\n",
    "        else:\n",
    "            if phrase: # kiểm tra xem trong này đang có một chuỗi token viết hoa hay không nếu có thì thêm nó vào results \n",
    "                results.append(\" \".join(phrase))#Ví dụ: phrase = ['Home','Minister','Ramesh','Lekhak'] → \" \".join(phrase) cho \"Home Minister Ramesh Lekhak\".\n",
    "                phrase = [] # đặt lại để bắt đầu vòng lặp mới \n",
    "    if phrase:#Sau khi vòng lặp for kết thúc, có thể phrase vẫn còn chứa một cụm vì chuỗi kết thúc bằng token viết hoa (ví dụ văn bản kết thúc bằng \"Prithvi Subba\" và không có token sau để kích hoạt else).\n",
    "        results.append(\" \".join(phrase))\n",
    "\n",
    "    return results\n",
    "\n",
    "\n",
    "# Test\n",
    "text = \"Nepal’s Home Minister Ramesh Lekhak resigned Monday following the violence, Communications Minister Prithvi Subba confirmed to reporters late Monday.\"\n",
    "print(extract_capitalized(text))\n"
   ]
  },
  {
   "cell_type": "markdown",
   "id": "61979ca2",
   "metadata": {},
   "source": [
    "Exo3: \n",
    "\tINPUT=The police are firing indiscriminately, one protester told Indian news agency ANI. At least 17 people were killed in Kathmandu and two more in the eastern city of Itahari, according to hospital officials. \n",
    "\tOUTPUT=[The, Indian, ANI, At, 17, Kathmandu, Itahari]"
   ]
  },
  {
   "cell_type": "code",
   "execution_count": null,
   "id": "0de4b6d4",
   "metadata": {},
   "outputs": [
    {
     "name": "stdout",
     "output_type": "stream",
     "text": [
      "['The', 'Indian', 'ANI', 'At', '17', 'Kathmandu', 'Itahari']\n"
     ]
    }
   ],
   "source": [
    "def ex(text : str):\n",
    "    tokens = []\n",
    "    word = \"\" \n",
    "    results = [] \n",
    "\n",
    "    for ch in text: \n",
    "        if ch.isalnum(): \n",
    "            word+= ch \n",
    "        else : \n",
    "            if word : \n",
    "                tokens.append(word)\n",
    "                word = \"\"\n",
    "            if not ch.isspace():\n",
    "                tokens.append(ch)\n",
    "    if word :\n",
    "        tokens.append(word)\n",
    "\n",
    "    for i in tokens :\n",
    "        if i[0].isupper() or i.isdigit(): \n",
    "            results.append(i)\n",
    "    return results \n",
    "\n",
    "text = \"The police are firing indiscriminately, one protester told Indian news agency ANI. At least 17 people were killed in Kathmandu and two more in the eastern city of Itahari, according to hospital officials.\"\n",
    "print(ex(text))"
   ]
  },
  {
   "cell_type": "markdown",
   "id": "45849c62",
   "metadata": {},
   "source": [
    "exo 4\n"
   ]
  },
  {
   "cell_type": "code",
   "execution_count": null,
   "id": "5b4f6f7c",
   "metadata": {},
   "outputs": [
    {
     "name": "stdout",
     "output_type": "stream",
     "text": [
      "['Dự', '84.477', '21.000', 'Số', '2,21', '2,18', '49,66%', '1']\n"
     ]
    }
   ],
   "source": [
    "def extract_numbers_and_capitals(text):\n",
    "    results = []\n",
    "    token = \"\"\n",
    "    mode = None   # \"word\" hoặc \"number\" Trạng thái hiện None: chưa gom cái gì, \"word\" ( đang gom chữ), \"number\"( đang gom số )\n",
    "\n",
    "    for ch in text + \" \":  # thêm khoảng trắng để flush token cuối\n",
    "        # --- xử lý chữ ---\n",
    "        if ch.isalpha(): # nếu kí tự hiện tại là chữ \n",
    "            if mode != \"word\": # nếu trước đó không ở chế độ gom chữ (ví dụ trước đó đang gom số hoặc chưa gom gì), thì ta chuyển sang gom chữ mới \n",
    "                if token: # nếu token cũ chưa được lưu thì ta cần xử lý token chữ trước khi bắt đầu chữ mới \n",
    "                    # lưu token trước\n",
    "                    if mode == \"number\": # nếu mode đang là số thì lưu số đó và result (Nếu token cũ là từ thì không lưu ngay — lưu từ chỉ khi bắt đầu/đóng token ở phần khác, và chỉ nếu viết hoa.)\n",
    "                        results.append(token)\n",
    "                token = ch # bắt đầu token mới , gán kí tự chữ đầu tiên \n",
    "                mode = \"word\" # đặt trạng thái đang gom chữ \n",
    "            else: # nếu đang ở chế độ chữ thì tiếp tục nối kí tự vào token \n",
    "                token += ch\n",
    "        # khối xử lý số, dấu thập phân \n",
    "        elif ch.isdigit() or (ch in [\".\", \",\"] and mode == \"number\" and not any(c in token for c in [\".\", \",\"])) or (ch == \"%\" and mode == \"number\"):\n",
    "            if mode != \"number\":\n",
    "                if token:\n",
    "                    if mode == \"word\" and token[0].isupper():\n",
    "                        results.append(token)\n",
    "                token = ch\n",
    "                mode = \"number\"\n",
    "            else:\n",
    "                token += ch\n",
    "        else:\n",
    "            if token:\n",
    "                if mode == \"word\" and token[0].isupper():\n",
    "                    results.append(token)\n",
    "                elif mode == \"number\":\n",
    "                    results.append(token)\n",
    "                token = \"\"\n",
    "            mode = None\n",
    "\n",
    "    return results\n",
    "\n",
    "\n",
    "text = \"Dự kiến, số thu ngân sách từ thuế thu nhập cá nhân còn khoảng 84.477 tỷ đồng, giảm 21.000 tỷ mỗi năm so với hiện hành. Số người còn phải nộp thuế là 2,21 triệu người, giảm 2,18 triệu người (49,66%) do chuyển từ bậc 1 sang diện không chịu thuế.\"\n",
    "print(extract_numbers_and_capitals(text))\n"
   ]
  }
 ],
 "metadata": {
  "kernelspec": {
   "display_name": "Python 3",
   "language": "python",
   "name": "python3"
  },
  "language_info": {
   "codemirror_mode": {
    "name": "ipython",
    "version": 3
   },
   "file_extension": ".py",
   "mimetype": "text/x-python",
   "name": "python",
   "nbconvert_exporter": "python",
   "pygments_lexer": "ipython3",
   "version": "3.9.12"
  }
 },
 "nbformat": 4,
 "nbformat_minor": 5
}
